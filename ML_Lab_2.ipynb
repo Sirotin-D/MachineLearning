{
 "cells": [
  {
   "cell_type": "markdown",
   "id": "901e8005",
   "metadata": {},
   "source": [
    "# Задание по машинному обучению ч.2:\n",
    "\n",
    " Обучить на данных из 1 задания полносвязную неглубокую нейронную сеть. Построить графики зависимости ошибки на обучающей выборке и тестовой выборках от параметра alpha и от количества нейронов."
   ]
  },
  {
   "cell_type": "markdown",
   "id": "c484d594",
   "metadata": {},
   "source": [
    "## Подключаем необходимые библиотеки"
   ]
  },
  {
   "cell_type": "code",
   "execution_count": 1,
   "id": "07e8a4b1",
   "metadata": {},
   "outputs": [],
   "source": [
    "import numpy as np\n",
    "import os\n",
    "import pandas as pd\n",
    "import sklearn\n",
    "import sklearn.model_selection\n",
    "import sklearn.metrics\n",
    "\n",
    "from matplotlib import pyplot as plt\n",
    "from sklearn.neural_network import MLPClassifier\n",
    "from sklearn.metrics import confusion_matrix, ConfusionMatrixDisplay"
   ]
  },
  {
   "cell_type": "markdown",
   "id": "bb680704",
   "metadata": {},
   "source": [
    "## Загружаем датасет"
   ]
  },
  {
   "cell_type": "code",
   "execution_count": 2,
   "id": "eaa5a6b9",
   "metadata": {},
   "outputs": [],
   "source": [
    "df = pd.read_csv(\"fake_job_postings.csv\")"
   ]
  },
  {
   "cell_type": "markdown",
   "id": "b265db11",
   "metadata": {},
   "source": [
    "## Повторим обработку данных, проделанную в задании 1:"
   ]
  },
  {
   "cell_type": "code",
   "execution_count": 3,
   "id": "471ffe8b",
   "metadata": {
    "scrolled": false
   },
   "outputs": [
    {
     "data": {
      "text/html": [
       "<div>\n",
       "<style scoped>\n",
       "    .dataframe tbody tr th:only-of-type {\n",
       "        vertical-align: middle;\n",
       "    }\n",
       "\n",
       "    .dataframe tbody tr th {\n",
       "        vertical-align: top;\n",
       "    }\n",
       "\n",
       "    .dataframe thead th {\n",
       "        text-align: right;\n",
       "    }\n",
       "</style>\n",
       "<table border=\"1\" class=\"dataframe\">\n",
       "  <thead>\n",
       "    <tr style=\"text-align: right;\">\n",
       "      <th></th>\n",
       "      <th>telecommuting</th>\n",
       "      <th>has_company_logo</th>\n",
       "      <th>has_questions</th>\n",
       "      <th>employment_type</th>\n",
       "      <th>required_experience</th>\n",
       "      <th>required_education</th>\n",
       "      <th>industry</th>\n",
       "      <th>function</th>\n",
       "      <th>fraudulent</th>\n",
       "    </tr>\n",
       "  </thead>\n",
       "  <tbody>\n",
       "    <tr>\n",
       "      <th>0</th>\n",
       "      <td>0</td>\n",
       "      <td>1</td>\n",
       "      <td>0</td>\n",
       "      <td>2</td>\n",
       "      <td>4</td>\n",
       "      <td>1</td>\n",
       "      <td>58</td>\n",
       "      <td>22</td>\n",
       "      <td>0</td>\n",
       "    </tr>\n",
       "    <tr>\n",
       "      <th>1</th>\n",
       "      <td>0</td>\n",
       "      <td>1</td>\n",
       "      <td>0</td>\n",
       "      <td>1</td>\n",
       "      <td>6</td>\n",
       "      <td>1</td>\n",
       "      <td>75</td>\n",
       "      <td>7</td>\n",
       "      <td>0</td>\n",
       "    </tr>\n",
       "    <tr>\n",
       "      <th>2</th>\n",
       "      <td>0</td>\n",
       "      <td>1</td>\n",
       "      <td>0</td>\n",
       "      <td>1</td>\n",
       "      <td>5</td>\n",
       "      <td>1</td>\n",
       "      <td>58</td>\n",
       "      <td>18</td>\n",
       "      <td>0</td>\n",
       "    </tr>\n",
       "    <tr>\n",
       "      <th>3</th>\n",
       "      <td>0</td>\n",
       "      <td>1</td>\n",
       "      <td>0</td>\n",
       "      <td>1</td>\n",
       "      <td>5</td>\n",
       "      <td>1</td>\n",
       "      <td>22</td>\n",
       "      <td>31</td>\n",
       "      <td>0</td>\n",
       "    </tr>\n",
       "    <tr>\n",
       "      <th>4</th>\n",
       "      <td>0</td>\n",
       "      <td>1</td>\n",
       "      <td>1</td>\n",
       "      <td>1</td>\n",
       "      <td>5</td>\n",
       "      <td>1</td>\n",
       "      <td>51</td>\n",
       "      <td>16</td>\n",
       "      <td>0</td>\n",
       "    </tr>\n",
       "    <tr>\n",
       "      <th>...</th>\n",
       "      <td>...</td>\n",
       "      <td>...</td>\n",
       "      <td>...</td>\n",
       "      <td>...</td>\n",
       "      <td>...</td>\n",
       "      <td>...</td>\n",
       "      <td>...</td>\n",
       "      <td>...</td>\n",
       "      <td>...</td>\n",
       "    </tr>\n",
       "    <tr>\n",
       "      <th>17875</th>\n",
       "      <td>0</td>\n",
       "      <td>1</td>\n",
       "      <td>1</td>\n",
       "      <td>1</td>\n",
       "      <td>5</td>\n",
       "      <td>1</td>\n",
       "      <td>22</td>\n",
       "      <td>31</td>\n",
       "      <td>0</td>\n",
       "    </tr>\n",
       "    <tr>\n",
       "      <th>17876</th>\n",
       "      <td>0</td>\n",
       "      <td>1</td>\n",
       "      <td>1</td>\n",
       "      <td>1</td>\n",
       "      <td>5</td>\n",
       "      <td>1</td>\n",
       "      <td>61</td>\n",
       "      <td>0</td>\n",
       "      <td>0</td>\n",
       "    </tr>\n",
       "    <tr>\n",
       "      <th>17877</th>\n",
       "      <td>0</td>\n",
       "      <td>0</td>\n",
       "      <td>0</td>\n",
       "      <td>1</td>\n",
       "      <td>5</td>\n",
       "      <td>1</td>\n",
       "      <td>58</td>\n",
       "      <td>18</td>\n",
       "      <td>0</td>\n",
       "    </tr>\n",
       "    <tr>\n",
       "      <th>17878</th>\n",
       "      <td>0</td>\n",
       "      <td>0</td>\n",
       "      <td>1</td>\n",
       "      <td>0</td>\n",
       "      <td>6</td>\n",
       "      <td>6</td>\n",
       "      <td>48</td>\n",
       "      <td>9</td>\n",
       "      <td>0</td>\n",
       "    </tr>\n",
       "    <tr>\n",
       "      <th>17879</th>\n",
       "      <td>0</td>\n",
       "      <td>1</td>\n",
       "      <td>1</td>\n",
       "      <td>1</td>\n",
       "      <td>5</td>\n",
       "      <td>1</td>\n",
       "      <td>22</td>\n",
       "      <td>12</td>\n",
       "      <td>0</td>\n",
       "    </tr>\n",
       "  </tbody>\n",
       "</table>\n",
       "<p>17880 rows × 9 columns</p>\n",
       "</div>"
      ],
      "text/plain": [
       "       telecommuting  has_company_logo  has_questions  employment_type  \\\n",
       "0                  0                 1              0                2   \n",
       "1                  0                 1              0                1   \n",
       "2                  0                 1              0                1   \n",
       "3                  0                 1              0                1   \n",
       "4                  0                 1              1                1   \n",
       "...              ...               ...            ...              ...   \n",
       "17875              0                 1              1                1   \n",
       "17876              0                 1              1                1   \n",
       "17877              0                 0              0                1   \n",
       "17878              0                 0              1                0   \n",
       "17879              0                 1              1                1   \n",
       "\n",
       "       required_experience  required_education  industry  function  fraudulent  \n",
       "0                        4                   1        58        22           0  \n",
       "1                        6                   1        75         7           0  \n",
       "2                        5                   1        58        18           0  \n",
       "3                        5                   1        22        31           0  \n",
       "4                        5                   1        51        16           0  \n",
       "...                    ...                 ...       ...       ...         ...  \n",
       "17875                    5                   1        22        31           0  \n",
       "17876                    5                   1        61         0           0  \n",
       "17877                    5                   1        58        18           0  \n",
       "17878                    6                   6        48         9           0  \n",
       "17879                    5                   1        22        12           0  \n",
       "\n",
       "[17880 rows x 9 columns]"
      ]
     },
     "execution_count": 3,
     "metadata": {},
     "output_type": "execute_result"
    }
   ],
   "source": [
    "df=df.drop(['job_id','location','department','salary_range','description','title','company_profile','benefits','requirements'],axis=1)\n",
    "columns_list=list(df.columns)\n",
    "\n",
    "from sklearn.preprocessing import LabelEncoder\n",
    "le=LabelEncoder()\n",
    "for i in columns_list:\n",
    "    if df[i].dtype=='object':\n",
    "        df[i]=df[i].replace(np.nan,df[i].mode()[0],regex=True)\n",
    "\n",
    "for i in columns_list:\n",
    "    if df[i].dtype=='object':\n",
    "        df[i]=le.fit_transform(df[i])\n",
    "        \n",
    "df"
   ]
  },
  {
   "cell_type": "markdown",
   "id": "16ccab52",
   "metadata": {},
   "source": [
    "## Разбиваем данные на обучающую и тестовую выборки"
   ]
  },
  {
   "cell_type": "code",
   "execution_count": 4,
   "id": "f715f323",
   "metadata": {},
   "outputs": [],
   "source": [
    "from sklearn.model_selection import train_test_split\n",
    "y=df['fraudulent']\n",
    "\n",
    "X=df.drop(['fraudulent'],axis=1)\n",
    "x_train,x_test,y_train,y_test=train_test_split(X,y,random_state=0,test_size=0.2)\n",
    "\n",
    "N_test, _ = x_test.shape"
   ]
  },
  {
   "cell_type": "markdown",
   "id": "5287c428",
   "metadata": {},
   "source": [
    "## Обучаем классификатор"
   ]
  },
  {
   "cell_type": "code",
   "execution_count": 5,
   "id": "8701ed0d",
   "metadata": {},
   "outputs": [],
   "source": [
    "mlp_model = MLPClassifier(\n",
    "    hidden_layer_sizes=(50,),\n",
    "    solver='adam',\n",
    "    activation='relu',\n",
    "    random_state=3,\n",
    "    max_iter=500\n",
    ")"
   ]
  },
  {
   "cell_type": "code",
   "execution_count": 6,
   "id": "165d6758",
   "metadata": {},
   "outputs": [
    {
     "name": "stdout",
     "output_type": "stream",
     "text": [
      "Wall time: 4.18 s\n"
     ]
    },
    {
     "data": {
      "text/plain": [
       "MLPClassifier(hidden_layer_sizes=(50,), max_iter=500, random_state=3)"
      ]
     },
     "execution_count": 6,
     "metadata": {},
     "output_type": "execute_result"
    }
   ],
   "source": [
    "%%time\n",
    "mlp_model.fit(x_train, y_train)"
   ]
  },
  {
   "cell_type": "markdown",
   "id": "fa8020e0",
   "metadata": {},
   "source": [
    "## Проверяем качество работы классификатора"
   ]
  },
  {
   "cell_type": "code",
   "execution_count": 7,
   "id": "c7591718",
   "metadata": {},
   "outputs": [],
   "source": [
    "y_train_prediction = mlp_model.predict(x_train)\n",
    "y_test_prediction = mlp_model.predict(x_test)"
   ]
  },
  {
   "cell_type": "markdown",
   "id": "40a5aebe",
   "metadata": {},
   "source": [
    "### Точность на обучающей и тестовой выборках:"
   ]
  },
  {
   "cell_type": "code",
   "execution_count": 8,
   "id": "1260bde2",
   "metadata": {},
   "outputs": [
    {
     "name": "stdout",
     "output_type": "stream",
     "text": [
      "Train:  0.9567253914988815\n",
      "Test:  0.9633668903803132\n"
     ]
    }
   ],
   "source": [
    "from sklearn.metrics import accuracy_score\n",
    "print(\"Train: \", accuracy_score(y_train, y_train_prediction))\n",
    "print(\"Test: \", accuracy_score(y_test, y_test_prediction))"
   ]
  },
  {
   "cell_type": "markdown",
   "id": "51b0bbe1",
   "metadata": {},
   "source": [
    "### Подбор _гипер_параметров"
   ]
  },
  {
   "cell_type": "code",
   "execution_count": 9,
   "id": "71e8dfb7",
   "metadata": {},
   "outputs": [],
   "source": [
    "alpha_arr = np.logspace(-3, 2, 21)\n",
    "test_err = []\n",
    "train_err = []\n",
    "train_acc = []\n",
    "test_acc = []\n",
    "\n",
    "for alpha in alpha_arr:\n",
    "    mlp_model = MLPClassifier(alpha = alpha, hidden_layer_sizes = (100,), \n",
    "                              solver = 'adam', activation = 'relu', max_iter=1000, random_state = 42)\n",
    "    mlp_model.fit(x_train, y_train)\n",
    "\n",
    "    y_train_pred = mlp_model.predict(x_train)\n",
    "    y_test_pred = mlp_model.predict(x_test)\n",
    "    \n",
    "    train_err.append(np.mean(y_train != y_train_pred))\n",
    "    test_err.append(np.mean(y_test != y_test_pred))\n",
    "    train_acc.append(sklearn.metrics.accuracy_score(y_train, y_train_pred))\n",
    "    test_acc.append(sklearn.metrics.accuracy_score(y_test, y_test_pred))"
   ]
  },
  {
   "cell_type": "code",
   "execution_count": 10,
   "id": "8397fc0e",
   "metadata": {},
   "outputs": [
    {
     "data": {
      "text/plain": [
       "<matplotlib.legend.Legend at 0x24de2139040>"
      ]
     },
     "execution_count": 10,
     "metadata": {},
     "output_type": "execute_result"
    },
    {
     "data": {
      "image/png": "[encoded data removed]",
      "text/plain": [
       "<Figure size 432x288 with 1 Axes>"
      ]
     },
     "metadata": {
      "needs_background": "light"
     },
     "output_type": "display_data"
    }
   ],
   "source": [
    "plt.semilogx(alpha_arr, train_err, 'b-o', label = 'train')\n",
    "plt.semilogx(alpha_arr, test_err, 'r-o', label = 'test')\n",
    "plt.xlim([np.min(alpha_arr), np.max(alpha_arr)])\n",
    "plt.title('Error vs. alpha')\n",
    "plt.xlabel('alpha')\n",
    "plt.ylabel('error')\n",
    "plt.legend()"
   ]
  },
  {
   "cell_type": "markdown",
   "id": "eeae3d76",
   "metadata": {},
   "source": [
    "### Рассмотрим как у нас менялась метрика в зависимости от гиперпараметра:"
   ]
  },
  {
   "cell_type": "code",
   "execution_count": 11,
   "id": "dc673bef",
   "metadata": {},
   "outputs": [
    {
     "data": {
      "text/plain": [
       "<matplotlib.legend.Legend at 0x24de2a62550>"
      ]
     },
     "execution_count": 11,
     "metadata": {},
     "output_type": "execute_result"
    },
    {
     "data": {
      "image/png": "[encoded data removed]",
      "text/plain": [
       "<Figure size 432x288 with 1 Axes>"
      ]
     },
     "metadata": {
      "needs_background": "light"
     },
     "output_type": "display_data"
    }
   ],
   "source": [
    "plt.semilogx(alpha_arr, train_acc, 'r-o', label = 'train')\n",
    "plt.semilogx(alpha_arr, test_acc, 'b-o', label = 'test')\n",
    "plt.xlim([np.min(alpha_arr), np.max(alpha_arr)])\n",
    "plt.title('Accuracy vs. alpha')\n",
    "plt.xlabel('alpha')\n",
    "plt.ylabel('Accuracy')\n",
    "plt.legend()"
   ]
  },
  {
   "cell_type": "markdown",
   "id": "18d99617",
   "metadata": {},
   "source": [
    "При увеличении параметра регуляризации точность на тренирвоочной выборке уменьшается(при значении параметра больше 1).При оптимальном параметре точность на тестовой и тренировочной выборках максимальна."
   ]
  },
  {
   "cell_type": "markdown",
   "id": "f3eb6d28",
   "metadata": {},
   "source": [
    "### Минимальное значение ошибки:"
   ]
  },
  {
   "cell_type": "code",
   "execution_count": 12,
   "id": "0792ebbf",
   "metadata": {},
   "outputs": [
    {
     "name": "stdout",
     "output_type": "stream",
     "text": [
      "0.04271532438478747 0.0371923937360179\n"
     ]
    }
   ],
   "source": [
    "min_train_err = np.min(train_err)\n",
    "min_test_err = np.min(test_err)\n",
    "print(min_train_err, min_test_err)"
   ]
  },
  {
   "cell_type": "markdown",
   "id": "18f2c599",
   "metadata": {},
   "source": [
    "### Оптимальное значение alpha:"
   ]
  },
  {
   "cell_type": "code",
   "execution_count": 13,
   "id": "540474b3",
   "metadata": {},
   "outputs": [
    {
     "name": "stdout",
     "output_type": "stream",
     "text": [
      "0.001\n"
     ]
    }
   ],
   "source": [
    "alpha_opt = alpha_arr[test_err == min_test_err]\n",
    "print(alpha_opt[0])"
   ]
  },
  {
   "cell_type": "code",
   "execution_count": 14,
   "id": "466b9075",
   "metadata": {},
   "outputs": [],
   "source": [
    "alpha_opt = alpha_opt[0]"
   ]
  },
  {
   "cell_type": "markdown",
   "id": "b3d57f46",
   "metadata": {},
   "source": [
    "## Классификатор при найденном оптимальном значении `alpha`:"
   ]
  },
  {
   "cell_type": "markdown",
   "id": "8a3d4b56",
   "metadata": {},
   "source": [
    "### Повторим обучение:"
   ]
  },
  {
   "cell_type": "code",
   "execution_count": 15,
   "id": "7708ea68",
   "metadata": {},
   "outputs": [],
   "source": [
    "mlp_model = MLPClassifier(alpha=alpha_opt, hidden_layer_sizes=(50,),\n",
    "                          solver='adam', activation='relu', random_state=7)\n",
    "mlp_model.fit(x_train, y_train)\n",
    "\n",
    "y_train_pred = mlp_model.predict(x_train)\n",
    "y_test_pred = mlp_model.predict(x_test)"
   ]
  },
  {
   "cell_type": "markdown",
   "id": "0d327cb9",
   "metadata": {},
   "source": [
    "### Ошибка на обучающей и тестовой выборке:"
   ]
  },
  {
   "cell_type": "code",
   "execution_count": 16,
   "id": "b2ac21b5",
   "metadata": {},
   "outputs": [
    {
     "name": "stdout",
     "output_type": "stream",
     "text": [
      "0.044043624161073824\n",
      "0.03747203579418344\n"
     ]
    }
   ],
   "source": [
    "print(np.mean(y_train != y_train_pred))\n",
    "print(np.mean(y_test != y_test_pred))"
   ]
  },
  {
   "cell_type": "markdown",
   "id": "26619a06",
   "metadata": {},
   "source": [
    "### Матрица рассогласования:"
   ]
  },
  {
   "cell_type": "code",
   "execution_count": 17,
   "id": "e7be44a7",
   "metadata": {},
   "outputs": [
    {
     "name": "stdout",
     "output_type": "stream",
     "text": [
      "[[3415  126]\n",
      " [   8   27]]\n"
     ]
    }
   ],
   "source": [
    "from sklearn.metrics import confusion_matrix\n",
    "print(confusion_matrix(y_test_pred, y_test))"
   ]
  },
  {
   "cell_type": "code",
   "execution_count": 18,
   "id": "197b8227",
   "metadata": {},
   "outputs": [
    {
     "data": {
      "text/plain": [
       "<sklearn.metrics._plot.confusion_matrix.ConfusionMatrixDisplay at 0x24de241bc10>"
      ]
     },
     "execution_count": 18,
     "metadata": {},
     "output_type": "execute_result"
    },
    {
     "data": {
      "image/png": "[encoded data removed]",
      "text/plain": [
       "<Figure size 432x288 with 2 Axes>"
      ]
     },
     "metadata": {
      "needs_background": "light"
     },
     "output_type": "display_data"
    }
   ],
   "source": [
    "from sklearn.metrics import plot_confusion_matrix\n",
    "plot_confusion_matrix(mlp_model, x_test, y_test) "
   ]
  },
  {
   "cell_type": "markdown",
   "id": "8d1cc471",
   "metadata": {},
   "source": [
    "### Подбор числа нейронов"
   ]
  },
  {
   "cell_type": "code",
   "execution_count": 19,
   "id": "229fa566",
   "metadata": {},
   "outputs": [],
   "source": [
    "neuron_count_arr = np.linspace(10, 300, 30).astype(int)\n",
    "test_err = []\n",
    "train_err = []\n",
    "test_acc = []\n",
    "train_acc = []\n",
    "\n",
    "for neuron_count in neuron_count_arr:\n",
    "    mlp_model = MLPClassifier(\n",
    "        alpha=alpha_opt,\n",
    "        hidden_layer_sizes=(neuron_count,),\n",
    "        solver='adam',\n",
    "        activation='relu',\n",
    "        max_iter=1000,\n",
    "        random_state=7\n",
    "    )\n",
    "    mlp_model.fit(x_train, y_train)\n",
    "\n",
    "    y_train_pred = mlp_model.predict(x_train)\n",
    "    y_test_pred = mlp_model.predict(x_test)\n",
    "\n",
    "    test_err.append(np.mean(y_test != y_test_pred))\n",
    "    train_err.append(np.mean(y_train != y_train_pred))\n",
    "    test_acc.append(accuracy_score(y_test, y_test_pred))\n",
    "    train_acc.append(accuracy_score(y_train, y_train_pred))"
   ]
  },
  {
   "cell_type": "code",
   "execution_count": 20,
   "id": "5abbe875",
   "metadata": {},
   "outputs": [
    {
     "data": {
      "text/plain": [
       "<matplotlib.legend.Legend at 0x24de2c2abb0>"
      ]
     },
     "execution_count": 20,
     "metadata": {},
     "output_type": "execute_result"
    },
    {
     "data": {
      "image/png": "[encoded data removed]",
      "text/plain": [
       "<Figure size 432x288 with 1 Axes>"
      ]
     },
     "metadata": {
      "needs_background": "light"
     },
     "output_type": "display_data"
    }
   ],
   "source": [
    "plt.plot(neuron_count_arr, train_err, 'r-o', label='train')\n",
    "plt.plot(neuron_count_arr, test_err, 'b-o', label='test')\n",
    "plt.xlim([np.min(neuron_count_arr), np.max(neuron_count_arr)])\n",
    "plt.xlabel('neuron count')\n",
    "plt.ylabel('error')\n",
    "plt.legend()"
   ]
  },
  {
   "cell_type": "code",
   "execution_count": 21,
   "id": "951a7e58",
   "metadata": {},
   "outputs": [
    {
     "data": {
      "text/plain": [
       "<matplotlib.legend.Legend at 0x24de3915700>"
      ]
     },
     "execution_count": 21,
     "metadata": {},
     "output_type": "execute_result"
    },
    {
     "data": {
      "image/png": "[encoded data removed]",
      "text/plain": [
       "<Figure size 432x288 with 1 Axes>"
      ]
     },
     "metadata": {
      "needs_background": "light"
     },
     "output_type": "display_data"
    }
   ],
   "source": [
    "plt.plot(neuron_count_arr, train_acc, 'r-o', label='train')\n",
    "plt.plot(neuron_count_arr, test_acc, 'b-o', label='test')\n",
    "plt.xlim([np.min(neuron_count_arr), np.max(neuron_count_arr)])\n",
    "plt.title('Accuracy vs. neuron count')\n",
    "plt.xlabel('neuron count')\n",
    "plt.ylabel('Accuracy')\n",
    "plt.legend()"
   ]
  },
  {
   "cell_type": "code",
   "execution_count": 22,
   "id": "d649a62a",
   "metadata": {},
   "outputs": [
    {
     "name": "stdout",
     "output_type": "stream",
     "text": [
      "Optimal neuron count: 160\n"
     ]
    }
   ],
   "source": [
    "min_test_error = np.min(test_err)\n",
    "neuron_opt = neuron_count_arr[test_err == min_test_error][0]\n",
    "print('Optimal neuron count:', neuron_opt)"
   ]
  },
  {
   "cell_type": "markdown",
   "id": "99200f4c",
   "metadata": {},
   "source": [
    "Оптипмальное число нейронов 160, в нем была наилучшая точность и на тренировочной и на тестовой выборке."
   ]
  },
  {
   "cell_type": "markdown",
   "id": "1f5d4eb2",
   "metadata": {},
   "source": [
    "### Классифкатор при найденном оптимальном значении числа нейронов и оптимальном `alpha`"
   ]
  },
  {
   "cell_type": "code",
   "execution_count": 23,
   "id": "42729843",
   "metadata": {},
   "outputs": [],
   "source": [
    "mlp_model = MLPClassifier(alpha=alpha_opt, hidden_layer_sizes=(neuron_opt,),\n",
    "                          solver='adam', activation='relu', max_iter=1500, random_state=42)\n",
    "mlp_model.fit(x_train, y_train)\n",
    "\n",
    "y_train_pred = mlp_model.predict(x_train)\n",
    "y_test_pred = mlp_model.predict(x_test)"
   ]
  },
  {
   "cell_type": "markdown",
   "id": "e6a3a02b",
   "metadata": {},
   "source": [
    "### Точность классификатора на обучающей и тестовой выборке:"
   ]
  },
  {
   "cell_type": "code",
   "execution_count": 24,
   "id": "7c5af799",
   "metadata": {},
   "outputs": [
    {
     "name": "stdout",
     "output_type": "stream",
     "text": [
      "Train:  0.9567253914988815\n",
      "Test:  0.9633668903803132\n"
     ]
    }
   ],
   "source": [
    "train_acc = accuracy_score(y_train, y_train_prediction)\n",
    "test_acc = accuracy_score(y_test, y_test_prediction)\n",
    "print('Train: ', train_acc)\n",
    "print('Test: ',test_acc)"
   ]
  },
  {
   "cell_type": "markdown",
   "id": "e32b3e25",
   "metadata": {},
   "source": [
    "### Вероятность ошибки классификатора на обучающей и тестовой выборке"
   ]
  },
  {
   "cell_type": "code",
   "execution_count": 25,
   "id": "4c7baad2",
   "metadata": {},
   "outputs": [
    {
     "name": "stdout",
     "output_type": "stream",
     "text": [
      "Train_error:  0.04327460850111853\n",
      "Test_error:  0.0366331096196868\n"
     ]
    }
   ],
   "source": [
    "print('Train_error: ', 1 - train_acc)\n",
    "print('Test_error: ', 1 - test_acc)"
   ]
  },
  {
   "cell_type": "markdown",
   "id": "5899f1d0",
   "metadata": {},
   "source": [
    "## Вывод:\n",
    "### Первоначальный классификатор, созданный без подбора оптимальных параметров, оказался очень точным, поскольку при оптимальном подборе параметров не получилось ощутимо изменить точность."
   ]
  }
 ],
 "metadata": {
  "kernelspec": {
   "display_name": "Python 3",
   "language": "python",
   "name": "python3"
  },
  "language_info": {
   "codemirror_mode": {
    "name": "ipython",
    "version": 3
   },
   "file_extension": ".py",
   "mimetype": "text/x-python",
   "name": "python",
   "nbconvert_exporter": "python",
   "pygments_lexer": "ipython3",
   "version": "3.8.8"
  }
 },
 "nbformat": 4,
 "nbformat_minor": 5
}
